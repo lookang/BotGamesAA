{
  "nbformat": 4,
  "nbformat_minor": 0,
  "metadata": {
    "colab": {
      "name": "TagUI RPA x Google Colab.ipynb",
      "provenance": [],
      "collapsed_sections": [],
      "include_colab_link": true
    },
    "kernelspec": {
      "name": "python3",
      "display_name": "Python 3"
    }
  },
  "cells": [
    {
      "cell_type": "markdown",
      "metadata": {
        "id": "view-in-github",
        "colab_type": "text"
      },
      "source": [
        "<a href=\"https://colab.research.google.com/github/lookang/BotGamesAA/blob/master/TagUI_RPA_x_Google_Colab.ipynb\" target=\"_parent\"><img src=\"https://colab.research.google.com/assets/colab-badge.svg\" alt=\"Open In Colab\"/></a>"
      ]
    },
    {
      "cell_type": "code",
      "metadata": {
        "id": "kl58MzRLyNgb"
      },
      "source": [
        "# setup RPA environment by installing PHP, Chromium web browser and TagUI Linux version\n",
        "!apt-get update; apt install php; apt install chromium-browser; wget https://github.com/kelaberetiv/TagUI/releases/download/v6.46.0/TagUI_Linux.zip; unzip TagUI_Linux.zip; cd tagui/src; ./tagui update; wget -O tagui https://gist.githubusercontent.com/kensoh/b12a350513268df5456165180dbee6a6/raw/19a93f6a3d8568d76a7f84c7fd29feefe8897c22/tagui\n",
        "\n",
        "# virtual display to run web browser normally (some websites reject headless mode)\n",
        "!apt install xvfb; pip install pyvirtualdisplay\n",
        "import pyvirtualdisplay; display = pyvirtualdisplay.Display(); display.start()"
      ],
      "execution_count": null,
      "outputs": []
    },
    {
      "cell_type": "code",
      "metadata": {
        "id": "kT6UnMFZst84"
      },
      "source": [
        "# run sample GitHub workflow showing license for TagUI project and downloading source code\n",
        "!tagui/src/tagui https://raw.githubusercontent.com/kelaberetiv/TagUI/master/flows/samples/2_github.tag\n",
        "\n",
        "# to send Telegram notification, first look up @taguibot to allow that\n",
        "# then in your TagUI workflow, include the following telegram step\n",
        "# telegram 1234567890 [RPA on Colab]\\ncloud automation completed"
      ],
      "execution_count": null,
      "outputs": []
    },
    {
      "cell_type": "code",
      "metadata": {
        "id": "nHHncOWcz7d1",
        "colab": {
          "base_uri": "https://localhost:8080/"
        },
        "outputId": "b2a4ec26-671c-432e-b25c-15d1335a89b6"
      },
      "source": [
        "# validate that the downloaded source code zip file exists and show the file's properties\n",
        "!ls -l TagUI-master.zip"
      ],
      "execution_count": null,
      "outputs": [
        {
          "output_type": "stream",
          "name": "stdout",
          "text": [
            "-rw-r--r-- 1 root root 12084683 Apr  6 23:30 TagUI-master.zip\n"
          ]
        }
      ]
    },
    {
      "cell_type": "code",
      "metadata": {
        "id": "0pwTBQUDUtsN"
      },
      "source": [
        "# [OPTIONAL] with Chrome browser you can download RPA output files to computer or phone\n",
        "from google.colab import files; files.download('TagUI-master.zip')"
      ],
      "execution_count": null,
      "outputs": []
    },
    {
      "cell_type": "code",
      "metadata": {
        "id": "3pQC5ADdY8Kj"
      },
      "source": [
        "# PS1 - use wget command to upload csv datafile or other files for your RPA to use\n",
        "# !wget https://raw.githubusercontent.com/kelaberetiv/TagUI/master/flows/samples/form_data.csv\n",
        "\n",
        "# PS2 - other ways to upload data to Google Colab cloud, for example files.upload()\n",
        "# https://towardsdatascience.com/3-ways-to-load-csv-files-into-colab-7c14fcbdcb92"
      ],
      "execution_count": null,
      "outputs": []
    },
    {
      "cell_type": "code",
      "source": [
        ""
      ],
      "metadata": {
        "id": "itwKjQLJTUnx"
      },
      "execution_count": null,
      "outputs": []
    }
  ]
}